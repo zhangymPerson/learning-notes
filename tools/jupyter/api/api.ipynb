{
 "cells": [
  {
   "cell_type": "markdown",
   "metadata": {},
   "source": [
    "### api 接口测试\n"
   ]
  },
  {
   "cell_type": "markdown",
   "metadata": {},
   "source": [
    "#### api test 初始化\n"
   ]
  },
  {
   "cell_type": "markdown",
   "metadata": {},
   "source": [
    "- 初始化全部变量，每次都得重新执行，下面的脚本会使用到这些变量\n",
    "\n",
    "- **注意:运行下面的脚本，需要优先执行当前 cell**"
   ]
  },
  {
   "cell_type": "code",
   "execution_count": null,
   "metadata": {},
   "outputs": [],
   "source": [
    "# 设置变量\n",
    "env_map = {\n",
    "    \"dev\": {\n",
    "        \"url\": \"https://echo.apifox.com/\"\n",
    "    },\n",
    "    \"prod\": {\n",
    "        \"url\": \"https://api.example.com\"\n",
    "    },\n",
    "    \"test\": {\n",
    "        \"url\": \"http://localhost:8000\"\n",
    "    }\n",
    "}\n",
    "\n",
    "def get_url(env: str) -> str:\n",
    "    \"\"\"\n",
    "    Returns the URL of the API\n",
    "    \"\"\"\n",
    "    if env in env_map:\n",
    "        return env_map[env][\"url\"]\n",
    "    return \"\"\n",
    "\n",
    "env = \"dev\"\n",
    "# 设置好 url 并运行当前 cell 后，后面的 cell 就可以自动获取到 url 了\n",
    "url = get_url(env)\n",
    "print(f\"env is {env}\")\n",
    "print(f\"url is {url}\")"
   ]
  },
  {
   "cell_type": "markdown",
   "metadata": {},
   "source": [
    "- 获取下面脚本运行需要的权限 token"
   ]
  },
  {
   "cell_type": "code",
   "execution_count": null,
   "metadata": {},
   "outputs": [],
   "source": [
    "import requests\n",
    "\n",
    "\n",
    "def get_token(url: str) -> str:\n",
    "    \"\"\"\n",
    "    Returns the token of the API\n",
    "    \"\"\"\n",
    "    url = url + \"/post\"\n",
    "    body = {\n",
    "        \"username\": \"admin\",\n",
    "        \"password\": \"admin\",\n",
    "        \"token\": f\"token is {env} token\"\n",
    "    }\n",
    "    req = requests.post(url, json=body)\n",
    "    # token 在 data 中的 access_token 字段中\n",
    "    token = req.json().get(\"json\", {}).get(\"token\", \"\")\n",
    "    print(f\"token is {token}\")\n",
    "    return token\n",
    "\n",
    "\n",
    "print(url)\n",
    "token = get_token(url)"
   ]
  },
  {
   "cell_type": "markdown",
   "metadata": {},
   "source": [
    "- 测试一个需要登录的接口\n"
   ]
  },
  {
   "cell_type": "code",
   "execution_count": null,
   "metadata": {},
   "outputs": [],
   "source": [
    "import json\n",
    "token = get_token(url)\n",
    "print(f\"token is {token}\")\n",
    "url = url + '/anything'\n",
    "\n",
    "body = {\n",
    "    \"name\": \"John Doe\",\n",
    "    \"age\": 30,\n",
    "    \"city\": \"New York\"\n",
    "}\n",
    "\n",
    "res = requests.post(url, json=body, headers={\n",
    "                    \"Authorization\": f\"Bearer {token}\"})\n",
    "\n",
    "# 格式化打印返回的 json 结果\n",
    "print(json.dumps(res.json(), indent=4))"
   ]
  },
  {
   "cell_type": "markdown",
   "metadata": {},
   "source": [
    "- get 请求模板"
   ]
  },
  {
   "cell_type": "code",
   "execution_count": null,
   "metadata": {},
   "outputs": [],
   "source": [
    "import requests\n",
    "\n",
    "def fetch_data_with_bearer_token(url, token):\n",
    "    \"\"\"\n",
    "    发送一个带有Bearer Token的GET请求到指定的URL，并返回JSON响应数据。\n",
    "    \n",
    "    参数:\n",
    "    - url (str): 目标API的URL。\n",
    "    - token (str): 用于认证的Bearer Token。\n",
    "    \n",
    "    返回:\n",
    "    - dict: API响应的JSON数据。\n",
    "    \n",
    "    异常:\n",
    "    - requests.exceptions.RequestException: 网络请求过程中发生的错误。\n",
    "    \"\"\"\n",
    "    headers = {\n",
    "        'Authorization': f'Bearer {token}',\n",
    "    }\n",
    "    \n",
    "    try:\n",
    "        response = requests.get(url, headers=headers)\n",
    "        response.raise_for_status()  # 如果响应状态不是200，将抛出HTTPError异常\n",
    "        return response.json()\n",
    "    except requests.exceptions.RequestException as e:\n",
    "        print(f\"请求发生错误: {e}\")\n",
    "        return None\n",
    "\n",
    "# 示例用法\n",
    "print(f\"url is {url}\")\n",
    "bearer_token = \"your-bearer-token-here\"\n",
    "data = fetch_data_with_bearer_token(url, bearer_token)\n",
    "if data is not None:\n",
    "    print(data)\n",
    "else:\n",
    "    print(\"无法获取数据\")\n"
   ]
  },
  {
   "cell_type": "markdown",
   "metadata": {},
   "source": [
    "post json 请求模板"
   ]
  },
  {
   "cell_type": "code",
   "execution_count": null,
   "metadata": {},
   "outputs": [],
   "source": [
    "import requests\n",
    "\n",
    "\n",
    "def send_post_request(url, data_dict):\n",
    "    \"\"\"\n",
    "    向指定URL发送POST请求，并返回JSON响应数据。\n",
    "\n",
    "    参数:\n",
    "    - url (str): 目标API的URL。\n",
    "    - data_dict (dict): 要发送的数据，格式为字典。\n",
    "\n",
    "    返回:\n",
    "    - dict: API响应的JSON数据。\n",
    "\n",
    "    异常:\n",
    "    - requests.exceptions.RequestException: 网络请求过程中发生的错误。\n",
    "    \"\"\"\n",
    "    try:\n",
    "        # 使用json参数自动设置Content-Type为application/json\n",
    "        response = requests.post(url, json=data_dict)\n",
    "        response.raise_for_status()  # 如果响应状态不是200，将抛出HTTPError异常\n",
    "        return response.json()\n",
    "    except requests.exceptions.RequestException as e:\n",
    "        print(f\"请求发生错误: {e}\")\n",
    "        return None\n",
    "\n",
    "\n",
    "# 示例用法\n",
    "print(f\"url =  {url}\")\n",
    "data = {\"key\": \"value\", \"another_key\": \"another_value\"}\n",
    "response_json = send_post_request(url, data)\n",
    "if response_json is not None:\n",
    "    print(response_json)\n",
    "else:\n",
    "    print(\"无法获取数据\")"
   ]
  }
 ],
 "metadata": {
  "kernelspec": {
   "display_name": "Python 3 (ipykernel)",
   "language": "python",
   "name": "python3"
  },
  "language_info": {
   "codemirror_mode": {
    "name": "ipython",
    "version": 3
   },
   "file_extension": ".py",
   "mimetype": "text/x-python",
   "name": "python",
   "nbconvert_exporter": "python",
   "pygments_lexer": "ipython3",
   "version": "3.12.0"
  }
 },
 "nbformat": 4,
 "nbformat_minor": 4
}
