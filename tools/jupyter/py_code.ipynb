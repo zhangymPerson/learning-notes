{
 "cells": [
  {
   "cell_type": "markdown",
   "id": "f8104392",
   "metadata": {},
   "source": [
    "# 标题1\n",
    "## 标题2\n",
    "\n",
    "测试文档\n",
    "\n",
    "- 标题\n",
    "\n",
    "**hello world**\n",
    "\n",
    "~~测试输入~~\n"
   ]
  },
  {
   "cell_type": "code",
   "execution_count": null,
   "id": "97acba58",
   "metadata": {},
   "outputs": [],
   "source": [
    "print(\"hello world\")"
   ]
  }
 ],
 "metadata": {
  "kernelspec": {
   "display_name": "Python 3 (ipykernel)",
   "language": "python",
   "name": "python3"
  },
  "language_info": {
   "codemirror_mode": {
    "name": "ipython",
    "version": 3
   },
   "file_extension": ".py",
   "mimetype": "text/x-python",
   "name": "python",
   "nbconvert_exporter": "python",
   "pygments_lexer": "ipython3",
   "version": "3.12.0"
  }
 },
 "nbformat": 4,
 "nbformat_minor": 5
}
